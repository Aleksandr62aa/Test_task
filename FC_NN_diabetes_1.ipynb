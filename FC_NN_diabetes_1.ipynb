{
  "nbformat": 4,
  "nbformat_minor": 0,
  "metadata": {
    "colab": {
      "provenance": [],
      "mount_file_id": "12SwsDGH6_Gr0RQWv8x1n3X0yeaeyA9La",
      "authorship_tag": "ABX9TyP5fO8x1Z4/mxAyHLp156vv",
      "include_colab_link": true
    },
    "kernelspec": {
      "name": "python3",
      "display_name": "Python 3"
    },
    "language_info": {
      "name": "python"
    }
  },
  "cells": [
    {
      "cell_type": "markdown",
      "metadata": {
        "id": "view-in-github",
        "colab_type": "text"
      },
      "source": [
        "<a href=\"https://colab.research.google.com/github/Aleksandr62aa/Test_task/blob/main/FC_NN_diabetes_1.ipynb\" target=\"_parent\"><img src=\"https://colab.research.google.com/assets/colab-badge.svg\" alt=\"Open In Colab\"/></a>"
      ]
    },
    {
      "cell_type": "markdown",
      "source": [
        "**Classification of Diabetes**\n",
        "\n",
        "**Dataset Diabetes**"
      ],
      "metadata": {
        "id": "2YsJr5eEjnUt"
      }
    },
    {
      "cell_type": "markdown",
      "source": [
        "**Importing libraries**"
      ],
      "metadata": {
        "id": "K2UV5bb_kTcw"
      }
    },
    {
      "cell_type": "code",
      "source": [
        "# requirements.txt\n",
        "\n",
        "!pip install torchinfo\n",
        "!pip install toml"
      ],
      "metadata": {
        "colab": {
          "base_uri": "https://localhost:8080/"
        },
        "id": "WS-c7TTUPfM3",
        "outputId": "961ccc36-3454-4ba2-cf53-855d4bb61255"
      },
      "execution_count": 38,
      "outputs": [
        {
          "output_type": "stream",
          "name": "stdout",
          "text": [
            "Requirement already satisfied: torchinfo in /usr/local/lib/python3.11/dist-packages (1.8.0)\n",
            "Requirement already satisfied: toml in /usr/local/lib/python3.11/dist-packages (0.10.2)\n"
          ]
        }
      ]
    },
    {
      "cell_type": "code",
      "execution_count": 82,
      "metadata": {
        "id": "L6BGKq7EQEph"
      },
      "outputs": [],
      "source": []
    },
    {
      "cell_type": "markdown",
      "source": [
        "**nodes**"
      ],
      "metadata": {
        "id": "QiAzOErCIPjd"
      }
    },
    {
      "cell_type": "code",
      "source": [
        "# CustomDataset.py\n",
        "\n",
        "import pandas as pd\n",
        "import torch\n",
        "from torch.utils.data import DataLoader, Dataset\n",
        "from sklearn.preprocessing import StandardScaler\n",
        "from sklearn.model_selection import train_test_split\n",
        "\n",
        "class CustomDataset(Dataset):\n",
        "    def __init__(self, config, train=True, train_ratio=0.8):\n",
        "        self.file_data = config[\"dataset\"][\"file_data\"]\n",
        "        self.train = train\n",
        "        self.train_ratio = train_ratio\n",
        "        self.load_data()\n",
        "\n",
        "    def load_data(self):\n",
        "        # read csv file\n",
        "        data_frame = pd.read_csv(self.file_data)\n",
        "\n",
        "        # Разделить данные на признаки и целевую переменную\n",
        "        x_np = data_frame.iloc[:,:-1].values\n",
        "        y_np = data_frame.iloc[:,-1].values\n",
        "\n",
        "        # Applying StandardScaler\n",
        "        scaler = StandardScaler()\n",
        "        x_np_tran = scaler.fit_transform(x_np)\n",
        "\n",
        "        # Разделить данные на обучающую и тестовую выборки\n",
        "        X_train, X_test, y_train, y_test = train_test_split(\n",
        "                                    x_np_tran, y_np, train_size=self.train_ratio, shuffle=False)\n",
        "\n",
        "        if self.train:\n",
        "            self.X = torch.tensor(X_train, dtype=torch.float32)\n",
        "            self.y = torch.tensor(y_train, dtype=torch.int64)\n",
        "        else:\n",
        "            self.X = torch.tensor(X_test, dtype=torch.float32)\n",
        "            self.y = torch.tensor(y_test, dtype=torch.int64)\n",
        "\n",
        "    def __len__(self):\n",
        "        return len(self.y)\n",
        "\n",
        "    def __getitem__(self, index):\n",
        "        return self.X[index], self.y[index]"
      ],
      "metadata": {
        "id": "FMyzyl25Hl_K"
      },
      "execution_count": 39,
      "outputs": []
    },
    {
      "cell_type": "code",
      "source": [
        "# DiabedNet.py\n",
        "\n",
        "class DiabedNet(torch.nn.Module):\n",
        "    def __init__(self, config):\n",
        "        # super().__init__()\n",
        "        super(DiabedNet, self).__init__()\n",
        "        input_size = config[\"model\"][\"input_size\"]\n",
        "        n_hidden_1 = config[\"model\"][\"n_hidden_1\"]\n",
        "        n_hidden_2 = config[\"model\"][\"n_hidden_2\"]\n",
        "        n_hidden_3 = config[\"model\"][\"n_hidden_3\"]\n",
        "        classes = config[\"model\"][\"classes\"]\n",
        "        self.fc1 = torch.nn.Linear(input_size, n_hidden_1)\n",
        "        self.fc2 = torch.nn.Linear(n_hidden_1, n_hidden_2)\n",
        "        self.fc3 = torch.nn.Linear(n_hidden_2, n_hidden_3)\n",
        "        self.fc4 = torch.nn.Linear(n_hidden_3, classes)\n",
        "        self.relu = torch.nn.ReLU()\n",
        "        # self.drop_out = torch.nn.Dropout(p=0.2)\n",
        "\n",
        "    def forward(self, x):\n",
        "        x = self.fc1(x)\n",
        "        x = self.relu(x)\n",
        "        x = self.fc2(x)\n",
        "        x = self.relu(x)\n",
        "        x = self.fc3(x)\n",
        "        x = self.relu(x)\n",
        "        x = self.fc4(x)\n",
        "        return x"
      ],
      "metadata": {
        "id": "sm0AeoahpFq7"
      },
      "execution_count": 40,
      "outputs": []
    },
    {
      "cell_type": "code",
      "source": [
        "# TrainingNN.py\n",
        "\n",
        "class TrainingNN():\n",
        "    def __init__(self, config, train_dataloader, test_dataloader):\n",
        "        self.num_epochs = config[\"training\"][\"num_epochs\"]\n",
        "        self.train_dataloader = train_dataloader\n",
        "        self.test_dataloader = test_dataloader\n",
        "        self.train_loss_history = []\n",
        "        self.train_accuracy_history = []\n",
        "        self.test_loss_history = []\n",
        "        self.test_accuracy_history = []\n",
        "\n",
        "    def training(self, model, loss, optimizer):\n",
        "        device = torch.device(\"cuda:0\" if torch.cuda.is_available() else \"cpu\")\n",
        "        model = model.to(device)\n",
        "        for epoch in tqdm(range(self.num_epochs)):   # цикл обучения по эпохам\n",
        "            running_loss_train = 0.\n",
        "            running_acc_train = 0.\n",
        "            model.train()\n",
        "\n",
        "            for batch in self.train_dataloader:# цикл обучения по бачам\n",
        "                optimizer.zero_grad()\n",
        "                X_batch, y_batch = batch\n",
        "\n",
        "                X_batch = X_batch.to(device)\n",
        "                y_batch = y_batch.to(device)\n",
        "\n",
        "                y_preds = model.forward(X_batch)\n",
        "\n",
        "                # loss функция\n",
        "                loss_train = loss(y_preds, y_batch)\n",
        "\n",
        "                loss_train.backward()\n",
        "                optimizer.step()\n",
        "                running_loss_train += loss_train.cpu().detach().numpy()\n",
        "                running_acc_train += (y_preds.argmax(dim=1) == y_batch).float().mean().cpu().detach().numpy()\n",
        "            epoch_loss = running_loss_train/ len(self.train_dataloader)\n",
        "            self.train_loss_history.append(epoch_loss)\n",
        "\n",
        "            epoch_acc = running_acc_train/len(self.train_dataloader)\n",
        "            self.train_accuracy_history.append(epoch_acc)\n",
        "\n",
        "            # тестирование модели\n",
        "            running_loss_test = 0.\n",
        "            running_acc_test = 0.\n",
        "            model.eval()\n",
        "\n",
        "            for batch in self.test_dataloader:\n",
        "                X_batch, y_batch = batch\n",
        "                X_batch = X_batch.to(device)\n",
        "                y_batch = y_batch.to(device)\n",
        "\n",
        "                y_preds = model.forward(X_batch)\n",
        "\n",
        "                running_loss_test += loss(y_preds, y_batch).cpu().detach().numpy()\n",
        "                running_acc_test += (y_preds.argmax(dim=1) == y_batch).float().mean().cpu().detach().numpy()\n",
        "\n",
        "            epoch_loss = running_loss_test/len(self.test_dataloader)\n",
        "            self.test_loss_history.append(epoch_loss)\n",
        "\n",
        "            epoch_acc = running_acc_test/len(self.test_dataloader)\n",
        "            self.test_accuracy_history.append(epoch_acc)\n",
        "\n",
        "    def get_history(self):\n",
        "        return self.train_loss_history, self.train_accuracy_history, self.test_loss_history, self.test_accuracy_history"
      ],
      "metadata": {
        "id": "7IIINTnRIaJ8"
      },
      "execution_count": 41,
      "outputs": []
    },
    {
      "cell_type": "markdown",
      "source": [
        "**utils_local**"
      ],
      "metadata": {
        "id": "vMvfK3WnJO0X"
      }
    },
    {
      "cell_type": "code",
      "source": [
        "# ClassificationMetrics.py\n",
        "\n",
        "from sklearn.metrics import accuracy_score, classification_report\n",
        "\n",
        "class ClassificationMetrics():\n",
        "    def __init__(self, test_dataloader):\n",
        "        self.test_dataloader = test_dataloader\n",
        "        self.y_true = []\n",
        "        self.y_pred = []\n",
        "\n",
        "    def report(self, model):\n",
        "        device = torch.device(\"cuda:0\" if torch.cuda.is_available() else \"cpu\")\n",
        "        model = model.to(device)\n",
        "        for batch in test_dataloader:\n",
        "            X_batch, y_batch = batch\n",
        "            X_batch = X_batch.to(device)\n",
        "            outputs = model(X_batch)\n",
        "            _, y_preds = torch.max(outputs, dim=1)\n",
        "            self.y_pred.extend(y_preds.cpu().detach().numpy())\n",
        "            self.y_true.extend(y_batch.cpu().detach().numpy())\n",
        "        return classification_report(self.y_true, self.y_pred)"
      ],
      "metadata": {
        "id": "_NUJL9ieHmD4"
      },
      "execution_count": 42,
      "outputs": []
    },
    {
      "cell_type": "code",
      "source": [
        "# ClassificationMetrics.py\n",
        "\n",
        "import matplotlib.pyplot as plt\n",
        "\n",
        "def plotting(train_history, test_history, title):\n",
        "    plt.plot(train_history, label='train')\n",
        "    plt.plot(test_history, label='test')\n",
        "    plt.legend(loc='best')\n",
        "    plt.title(title)"
      ],
      "metadata": {
        "id": "4RIuiWeSHmH3"
      },
      "execution_count": 43,
      "outputs": []
    },
    {
      "cell_type": "code",
      "source": [
        "# ClassificationMetrics.py\n",
        "\n",
        "import torch\n",
        "import random\n",
        "import numpy as np\n",
        "\n",
        "# Fixed seed\n",
        "def random_seed():\n",
        "    random.seed(9)\n",
        "    np.random.seed(9)\n",
        "    torch.manual_seed(9)\n",
        "    torch.cuda.manual_seed(9)\n",
        "    torch.backends.cudnn.deterministic = True"
      ],
      "metadata": {
        "id": "mhl5pG9hwcFA"
      },
      "execution_count": 44,
      "outputs": []
    },
    {
      "cell_type": "code",
      "source": [
        "# ClassificationMetrics.py\n",
        "\n",
        "from torchinfo import summary\n",
        "\n",
        "def summary_model(model, config):\n",
        "    input_size = (1, config[\"model\"][\"input_size\"])\n",
        "    return summary(model, input_size=input_size)"
      ],
      "metadata": {
        "id": "7TFGLJCZM1QS"
      },
      "execution_count": 45,
      "outputs": []
    },
    {
      "cell_type": "code",
      "source": [],
      "metadata": {
        "id": "WUhYlXMDcA86"
      },
      "execution_count": null,
      "outputs": []
    },
    {
      "cell_type": "markdown",
      "source": [
        "**main.py**"
      ],
      "metadata": {
        "id": "Tvf8BcurKKXq"
      }
    },
    {
      "cell_type": "code",
      "source": [
        "# main.py\n",
        "\n",
        "from tqdm import tqdm\n",
        "import toml\n",
        "from torch.utils.data import DataLoader, Dataset\n",
        "\n",
        "\n",
        "config = toml.load(\"config.toml\")\n",
        "random_seed()\n",
        "\n",
        "# dataset\n",
        "train_dataset = CustomDataset(config, train=True)\n",
        "test_dataset = CustomDataset(config, train=False)\n",
        "\n",
        "train_dataloader = DataLoader(train_dataset, batch_size=len(train_dataset), shuffle=True)\n",
        "test_dataloader = DataLoader(test_dataset, batch_size=len(test_dataset), shuffle=False)\n",
        "\n",
        "# model\n",
        "model = DiabedNet(config)\n",
        "\n",
        "# #Loss function\n",
        "loss = torch.nn.CrossEntropyLoss(torch.tensor([0.3, 0.7]))\n",
        "# # Optimizer\n",
        "optimizer = torch.optim.Adam(model.parameters(), lr=config[\"training\"][\"learning_rate\"])\n",
        "\n",
        "# Training procedure\n",
        "training_NN = TrainingNN(config, train_dataloader, test_dataloader)\n",
        "training_NN.training(model, loss, optimizer)\n",
        "train_loss_history, train_accuracy_history, test_loss_history, test_accuracy_history = training_NN.get_history()"
      ],
      "metadata": {
        "colab": {
          "base_uri": "https://localhost:8080/"
        },
        "id": "vyCcZhFNRYnn",
        "outputId": "90bb7633-ad2f-4074-d75c-6c0bc5d3dbbe"
      },
      "execution_count": 46,
      "outputs": [
        {
          "output_type": "stream",
          "name": "stderr",
          "text": [
            "100%|██████████| 58/58 [00:00<00:00, 74.05it/s]\n"
          ]
        }
      ]
    },
    {
      "cell_type": "code",
      "source": [],
      "metadata": {
        "id": "zq-9CazWbLG-"
      },
      "execution_count": null,
      "outputs": []
    },
    {
      "cell_type": "markdown",
      "source": [
        "**Result test**"
      ],
      "metadata": {
        "id": "uA2LItmxbMbi"
      }
    },
    {
      "cell_type": "code",
      "source": [
        "classification_metrics = ClassificationMetrics(test_dataloader)\n",
        "classification_metrics.report(model)\n",
        "print(f'\\nClassification Report:\\n {classification_metrics.report(model)}')"
      ],
      "metadata": {
        "id": "YNZpS1YdHmOM",
        "colab": {
          "base_uri": "https://localhost:8080/"
        },
        "outputId": "af245308-7469-4989-a7e2-a6c387ddfbb5"
      },
      "execution_count": 47,
      "outputs": [
        {
          "output_type": "stream",
          "name": "stdout",
          "text": [
            "\n",
            "Classification Report:\n",
            "               precision    recall  f1-score   support\n",
            "\n",
            "           0       0.89      0.80      0.84       198\n",
            "           1       0.69      0.82      0.75       110\n",
            "\n",
            "    accuracy                           0.81       308\n",
            "   macro avg       0.79      0.81      0.80       308\n",
            "weighted avg       0.82      0.81      0.81       308\n",
            "\n"
          ]
        }
      ]
    },
    {
      "cell_type": "code",
      "source": [],
      "metadata": {
        "id": "78RG_g5dFX3f"
      },
      "execution_count": 51,
      "outputs": []
    },
    {
      "cell_type": "code",
      "source": [
        "summary_model(model, config)"
      ],
      "metadata": {
        "colab": {
          "base_uri": "https://localhost:8080/"
        },
        "id": "dhXldyPeHmRS",
        "outputId": "fedeca95-dd2f-4691-f9f1-bc586205bac6"
      },
      "execution_count": 48,
      "outputs": [
        {
          "output_type": "execute_result",
          "data": {
            "text/plain": [
              "==========================================================================================\n",
              "Layer (type:depth-idx)                   Output Shape              Param #\n",
              "==========================================================================================\n",
              "DiabedNet                                [1, 2]                    --\n",
              "├─Linear: 1-1                            [1, 64]                   576\n",
              "├─ReLU: 1-2                              [1, 64]                   --\n",
              "├─Linear: 1-3                            [1, 32]                   2,080\n",
              "├─ReLU: 1-4                              [1, 32]                   --\n",
              "├─Linear: 1-5                            [1, 16]                   528\n",
              "├─ReLU: 1-6                              [1, 16]                   --\n",
              "├─Linear: 1-7                            [1, 2]                    34\n",
              "==========================================================================================\n",
              "Total params: 3,218\n",
              "Trainable params: 3,218\n",
              "Non-trainable params: 0\n",
              "Total mult-adds (Units.MEGABYTES): 0.00\n",
              "==========================================================================================\n",
              "Input size (MB): 0.00\n",
              "Forward/backward pass size (MB): 0.00\n",
              "Params size (MB): 0.01\n",
              "Estimated Total Size (MB): 0.01\n",
              "=========================================================================================="
            ]
          },
          "metadata": {},
          "execution_count": 48
        }
      ]
    },
    {
      "cell_type": "code",
      "source": [
        "plotting(train_loss_history, test_loss_history, \"Loss\")"
      ],
      "metadata": {
        "colab": {
          "base_uri": "https://localhost:8080/",
          "height": 452
        },
        "id": "y2IwOsdxMNPW",
        "outputId": "e13c3731-6310-4fcb-c5c0-437634c0d36c"
      },
      "execution_count": 49,
      "outputs": [
        {
          "output_type": "display_data",
          "data": {
            "text/plain": [
              "<Figure size 640x480 with 1 Axes>"
            ],
            "image/png": "[encoded data removed]"
          },
          "metadata": {}
        }
      ]
    },
    {
      "cell_type": "code",
      "source": [
        "plotting(train_accuracy_history, test_accuracy_history, \"Accuracy\")"
      ],
      "metadata": {
        "colab": {
          "base_uri": "https://localhost:8080/",
          "height": 452
        },
        "id": "7D2SQ3G_MNdp",
        "outputId": "271f8083-c338-4ec2-cb76-7df8ebbc4ebd"
      },
      "execution_count": 50,
      "outputs": [
        {
          "output_type": "display_data",
          "data": {
            "text/plain": [
              "<Figure size 640x480 with 1 Axes>"
            ],
            "image/png": "[encoded data removed]"
          },
          "metadata": {}
        }
      ]
    }
  ]
}