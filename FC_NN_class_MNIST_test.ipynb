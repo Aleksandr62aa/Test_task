{
  "nbformat": 4,
  "nbformat_minor": 0,
  "metadata": {
    "colab": {
      "provenance": [],
      "authorship_tag": "ABX9TyNm00qK0TYbSxOSo/zqfCEe",
      "include_colab_link": true
    },
    "kernelspec": {
      "name": "python3",
      "display_name": "Python 3"
    },
    "language_info": {
      "name": "python"
    }
  },
  "cells": [
    {
      "cell_type": "markdown",
      "metadata": {
        "id": "view-in-github",
        "colab_type": "text"
      },
      "source": [
        "<a href=\"https://colab.research.google.com/github/Aleksandr62aa/Test_task/blob/main/FC_NN_class_MNIST_test.ipynb\" target=\"_parent\"><img src=\"https://colab.research.google.com/assets/colab-badge.svg\" alt=\"Open In Colab\"/></a>"
      ]
    },
    {
      "cell_type": "markdown",
      "source": [
        "**Classification of handwritten numbers by a fully connected neural network**\n",
        "\n",
        "**Dataset MNIST**"
      ],
      "metadata": {
        "id": "2YsJr5eEjnUt"
      }
    },
    {
      "cell_type": "markdown",
      "source": [
        "**Importing libraries**"
      ],
      "metadata": {
        "id": "K2UV5bb_kTcw"
      }
    },
    {
      "cell_type": "code",
      "execution_count": 1,
      "metadata": {
        "id": "L6BGKq7EQEph"
      },
      "outputs": [],
      "source": [
        "import torch\n",
        "import random\n",
        "import numpy as np\n",
        "import torchvision.datasets\n",
        "import cv2\n",
        "from tqdm import tqdm\n",
        "\n",
        "# Fixed seed\n",
        "random.seed(7)\n",
        "np.random.seed(7)\n",
        "torch.manual_seed(7)\n",
        "torch.cuda.manual_seed(7)\n",
        "torch.backends.cudnn.deterministic = True"
      ]
    },
    {
      "cell_type": "code",
      "source": [
        "# GPU\n",
        "device = torch.device(\"cuda:0\" if torch.cuda.is_available() else \"cpu\")\n",
        "device"
      ],
      "metadata": {
        "colab": {
          "base_uri": "https://localhost:8080/"
        },
        "id": "cOECR6jYoNY9",
        "outputId": "30c8dceb-74f6-4fd8-afd5-5a40d4e7a0d1"
      },
      "execution_count": 2,
      "outputs": [
        {
          "output_type": "execute_result",
          "data": {
            "text/plain": [
              "device(type='cpu')"
            ]
          },
          "metadata": {},
          "execution_count": 2
        }
      ]
    },
    {
      "cell_type": "markdown",
      "source": [
        "**Model FC NN**"
      ],
      "metadata": {
        "id": "bn67YHTBpCVc"
      }
    },
    {
      "cell_type": "code",
      "source": [
        "class MNISTNet(torch.nn.Module):\n",
        "    def __init__(self, n_hidden_neurons):\n",
        "        super().__init__()\n",
        "        self.fc1 = torch.nn.Linear(28 * 28, n_hidden_neurons)\n",
        "        self.ac1 = torch.nn.Sigmoid()\n",
        "        self.drop_out = torch.nn.Dropout()\n",
        "        self.fc2 = torch.nn.Linear(n_hidden_neurons, 10)\n",
        "\n",
        "    def forward(self, x):\n",
        "        x = self.fc1(x)\n",
        "        x = self.ac1(x)\n",
        "        x = self.drop_out(x)\n",
        "        x = self.fc2(x)\n",
        "        return x"
      ],
      "metadata": {
        "id": "nV45lqeyRKOL"
      },
      "execution_count": 3,
      "outputs": []
    },
    {
      "cell_type": "code",
      "source": [
        "# создаем модель\n",
        "n_hidden_neurons = 100\n",
        "mnist_net_new = MNISTNet(n_hidden_neurons).to(device)"
      ],
      "metadata": {
        "id": "jgFsZ9WKiT0N"
      },
      "execution_count": 4,
      "outputs": []
    },
    {
      "cell_type": "code",
      "source": [
        "# Load the model state\n",
        "state_model = torch.load('mnist_net.tar', weights_only=True, map_location=device)\n",
        "# state_model = torch.load('mnist_net.pth', weights_only=True)\n",
        "mnist_net_new.load_state_dict(state_model)\n",
        "mnist_net_new.eval()"
      ],
      "metadata": {
        "colab": {
          "base_uri": "https://localhost:8080/"
        },
        "id": "6nXt-PIh4hgf",
        "outputId": "01708958-8dd8-47ce-f33a-087d479b46b6"
      },
      "execution_count": 5,
      "outputs": [
        {
          "output_type": "execute_result",
          "data": {
            "text/plain": [
              "MNISTNet(\n",
              "  (fc1): Linear(in_features=784, out_features=100, bias=True)\n",
              "  (ac1): Sigmoid()\n",
              "  (drop_out): Dropout(p=0.5, inplace=False)\n",
              "  (fc2): Linear(in_features=100, out_features=10, bias=True)\n",
              ")"
            ]
          },
          "metadata": {},
          "execution_count": 5
        }
      ]
    },
    {
      "cell_type": "code",
      "source": [
        "# mnist_net_new.fc1.weight.data, mnist_net_new.fc1.bias.data"
      ],
      "metadata": {
        "id": "JkQIBAsa7xm9"
      },
      "execution_count": null,
      "outputs": []
    },
    {
      "cell_type": "code",
      "source": [
        "# загрузка img\n",
        "img_bgr = cv2.imread('num_5.jpg') # загрузить img\n",
        "img_gray = cv2.cvtColor(img_bgr, cv2.COLOR_BGR2GRAY) # преобразовать BGR -> GRAY\n",
        "img_gray = cv2.resize(img_gray, (28, 28)) # (w, h) # изменить размер -> (w, h)"
      ],
      "metadata": {
        "id": "ampUidWW7xxM"
      },
      "execution_count": 6,
      "outputs": []
    },
    {
      "cell_type": "code",
      "source": [
        "# подготовка img для загрузки в модель\n",
        "img = img_gray.reshape([-1, 28 * 28])\n",
        "img_tensor= torch.from_numpy(img)\n",
        "img_tensor= img_tensor.float()/255\n",
        "img_tensor=img_tensor.to(device)\n"
      ],
      "metadata": {
        "id": "_eZ0bvSYdMdV"
      },
      "execution_count": 7,
      "outputs": []
    },
    {
      "cell_type": "code",
      "source": [
        "# загруза img в модель\n",
        "\n",
        "test_preds_img = mnist_net_new.forward(img_tensor)\n",
        "softmax = torch.nn.Softmax()\n",
        "test = softmax(test_preds_img)\n",
        "\n",
        "num = test.argmax(dim=1).cpu().detach().numpy()[0]\n",
        "acc = test.squeeze().cpu().detach().numpy()[num]\n",
        "print(num, acc)\n"
      ],
      "metadata": {
        "colab": {
          "base_uri": "https://localhost:8080/"
        },
        "id": "u04sg9U1VzN5",
        "outputId": "bc42fc42-01f0-45c6-91c9-c357fcf226d6"
      },
      "execution_count": 8,
      "outputs": [
        {
          "output_type": "stream",
          "name": "stdout",
          "text": [
            "5 0.9198358\n"
          ]
        },
        {
          "output_type": "stream",
          "name": "stderr",
          "text": [
            "/usr/local/lib/python3.11/dist-packages/torch/nn/modules/module.py:1736: UserWarning: Implicit dimension choice for softmax has been deprecated. Change the call to include dim=X as an argument.\n",
            "  return self._call_impl(*args, **kwargs)\n"
          ]
        }
      ]
    },
    {
      "cell_type": "code",
      "source": [],
      "metadata": {
        "id": "JoCO6axuVzes"
      },
      "execution_count": null,
      "outputs": []
    },
    {
      "cell_type": "code",
      "source": [
        "###############################################################################################################"
      ],
      "metadata": {
        "id": "aGwXLN_3VziQ"
      },
      "execution_count": null,
      "outputs": []
    },
    {
      "cell_type": "code",
      "source": [
        "# img_gray = cv2.imread('1.jpg', cv2.IMREAD_GRAYSCALE)\n",
        "img_bgr = cv2.imread('1.png') # загрузить img\n",
        "img_gray = cv2.cvtColor(img_bgr, cv2.COLOR_BGR2GRAY) # преобразовать BGR -> GRAY\n",
        "print(img_gray.dtype, img_gray.shape, img_bgr.dtype, img_bgr.shape)\n",
        "\n",
        "img_gray = cv2.resize(img_gray, (28, 28)) # (w, h) # изменить размер -> (w, h)\n",
        "print(img_gray.dtype, img_gray.shape)\n",
        "\n"
      ],
      "metadata": {
        "colab": {
          "base_uri": "https://localhost:8080/"
        },
        "id": "nBgGl0hYgeAO",
        "outputId": "b6fd005b-34dc-41af-be82-da94f0ebafd6"
      },
      "execution_count": null,
      "outputs": [
        {
          "output_type": "stream",
          "name": "stdout",
          "text": [
            "uint8 (267, 189) uint8 (267, 189, 3)\n",
            "uint8 (28, 28)\n"
          ]
        }
      ]
    },
    {
      "cell_type": "code",
      "source": [
        "# отобразить img\n",
        "import matplotlib.pyplot as plt\n",
        "plt.imshow(img_gray, cmap='gray')\n",
        "plt.show()\n"
      ],
      "metadata": {
        "colab": {
          "base_uri": "https://localhost:8080/",
          "height": 430
        },
        "id": "c1V3qHoHgeDG",
        "outputId": "f4246d0b-9d90-41c0-f314-d15df24cdeca",
        "collapsed": true
      },
      "execution_count": null,
      "outputs": [
        {
          "output_type": "display_data",
          "data": {
            "text/plain": [
              "<Figure size 640x480 with 1 Axes>"
            ],
            "image/png": "[encoded data removed]"
          },
          "metadata": {}
        }
      ]
    },
    {
      "cell_type": "code",
      "source": [
        "# пороговая обработка img\n",
        "# ret, thresh1 = cv2.threshold(img_gray, 120, 255, cv2.THRESH_BINARY)\n",
        "ret, thresh1 = cv2.threshold(img_gray, 120, 255, cv2.THRESH_BINARY_INV)"
      ],
      "metadata": {
        "id": "5iaby51xgeGA"
      },
      "execution_count": null,
      "outputs": []
    },
    {
      "cell_type": "code",
      "source": [
        "# отобразить img\n",
        "plt.imshow(thresh1, cmap='gray')\n",
        "plt.show()"
      ],
      "metadata": {
        "colab": {
          "base_uri": "https://localhost:8080/",
          "height": 430
        },
        "id": "GM77_AL6q6ia",
        "outputId": "632f321e-35d8-4492-b3f4-90eca8fec481",
        "collapsed": true
      },
      "execution_count": null,
      "outputs": [
        {
          "output_type": "display_data",
          "data": {
            "text/plain": [
              "<Figure size 640x480 with 1 Axes>"
            ],
            "image/png": "[encoded data removed]"
          },
          "metadata": {}
        }
      ]
    },
    {
      "cell_type": "code",
      "source": [],
      "metadata": {
        "id": "Op_6ffYRkSpc"
      },
      "execution_count": null,
      "outputs": []
    },
    {
      "cell_type": "code",
      "source": [
        "order = np.random.permutation(10)\n",
        "order"
      ],
      "metadata": {
        "id": "a4RP_CTgkSsk",
        "colab": {
          "base_uri": "https://localhost:8080/"
        },
        "outputId": "0992971f-8cc9-4ca6-e7bd-87f494b1707c"
      },
      "execution_count": null,
      "outputs": [
        {
          "output_type": "execute_result",
          "data": {
            "text/plain": [
              "array([2, 4, 1, 9, 6, 8, 7, 0, 5, 3])"
            ]
          },
          "metadata": {},
          "execution_count": 4
        }
      ]
    },
    {
      "cell_type": "code",
      "source": [
        "for start_index in range(0, 100, 10):\n",
        "    print(start_index)"
      ],
      "metadata": {
        "id": "-9Ji_tODwmZO"
      },
      "execution_count": null,
      "outputs": []
    },
    {
      "cell_type": "code",
      "source": [
        "x = np.array([0, 1, 2, 3, 4, 5, 6, 7, 8, 9])\n",
        "order = np.random.permutation(10)\n",
        "batch_0 = x[order[0:5]]\n",
        "batch_1 = x[order[5:10]]\n",
        "print(x)\n",
        "print(order)\n",
        "print(batch_0)\n",
        "print(batch_1)"
      ],
      "metadata": {
        "colab": {
          "base_uri": "https://localhost:8080/"
        },
        "id": "_E3tZS5kyK08",
        "outputId": "d59d4418-1ef3-4e50-897a-af6465425cf6"
      },
      "execution_count": null,
      "outputs": [
        {
          "output_type": "stream",
          "name": "stdout",
          "text": [
            "[0 1 2 3 4 5 6 7 8 9]\n",
            "[6 9 1 4 0 2 8 3 7 5]\n",
            "[6 9 1 4 0]\n",
            "[2 8 3 7 5]\n"
          ]
        }
      ]
    },
    {
      "cell_type": "code",
      "source": [
        "x = torch.tensor( [ [0,8,2], [3,4,6] ] )\n",
        "x.argmax(dim=1), x.argmax(dim=0)"
      ],
      "metadata": {
        "colab": {
          "base_uri": "https://localhost:8080/"
        },
        "id": "fJPQ_jbm4Ee5",
        "outputId": "506bd5bf-6f5f-4ca3-8997-87eca4b6f247"
      },
      "execution_count": null,
      "outputs": [
        {
          "output_type": "execute_result",
          "data": {
            "text/plain": [
              "(tensor([1, 2]), tensor([1, 0, 1]))"
            ]
          },
          "metadata": {},
          "execution_count": 19
        }
      ]
    },
    {
      "cell_type": "code",
      "source": [],
      "metadata": {
        "id": "bYDSmfE14Eo2"
      },
      "execution_count": null,
      "outputs": []
    },
    {
      "cell_type": "code",
      "source": [
        "class Model():\n",
        "    def __init__(self, obj):\n",
        "        self.obj = obj\n",
        "\n",
        "    def __call__(self):\n",
        "       return self.forward()\n",
        "\n",
        "    def forward(self):\n",
        "        return f\"Выполняется метод forward объекта {self.obj}\"\n",
        "        #return f\"Выполняется метод forward объекта {self.__class__.__name__}\"\n"
      ],
      "metadata": {
        "id": "jwcv0Edd4EsW"
      },
      "execution_count": null,
      "outputs": []
    },
    {
      "cell_type": "code",
      "source": [],
      "metadata": {
        "id": "VfsrRFk4Ey6c"
      },
      "execution_count": null,
      "outputs": []
    },
    {
      "cell_type": "code",
      "source": [
        "model = Model('model')\n",
        "print(model())\n",
        "print(model.forward())"
      ],
      "metadata": {
        "colab": {
          "base_uri": "https://localhost:8080/"
        },
        "id": "6ILV-ndY82G3",
        "outputId": "dc64c6eb-c71d-4415-f0cb-913eed048fcf"
      },
      "execution_count": null,
      "outputs": [
        {
          "output_type": "stream",
          "name": "stdout",
          "text": [
            "Выполняется метод forward объекта model\n",
            "Выполняется метод forward объекта model\n"
          ]
        }
      ]
    },
    {
      "cell_type": "code",
      "source": [
        "a = [1,2,3,4]\n",
        "a_1 = [[1,2,3,4]]\n",
        "a_2 = [[[1,2,3,4]]]\n",
        "print(a[0])\n",
        "print(a_1[0][1])\n",
        "print(a_2[0][0][2])"
      ],
      "metadata": {
        "id": "UwNYVdCa-HaC",
        "colab": {
          "base_uri": "https://localhost:8080/"
        },
        "outputId": "92637b6b-ea2c-4e82-f550-f5cf6a599695"
      },
      "execution_count": null,
      "outputs": [
        {
          "output_type": "stream",
          "name": "stdout",
          "text": [
            "1\n",
            "2\n",
            "3\n"
          ]
        }
      ]
    },
    {
      "cell_type": "code",
      "source": [
        "class Model():\n",
        "    def __init__(self, obj):\n",
        "        self.obj = obj\n",
        "\n",
        "    def __call__(self):\n",
        "       return self.forward()\n",
        "\n",
        "    def forward(self):\n",
        "        return f\"Выполняется метод forward объекта {self.obj}\"\n",
        "        #return f\"Выполняется метод forward объекта {self.__class__.__name__}\"\n"
      ],
      "metadata": {
        "id": "UNnjdY-U-HeH"
      },
      "execution_count": null,
      "outputs": []
    }
  ]
}