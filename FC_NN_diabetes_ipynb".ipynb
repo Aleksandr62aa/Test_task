{
  "nbformat": 4,
  "nbformat_minor": 0,
  "metadata": {
    "colab": {
      "provenance": [],
      "authorship_tag": "ABX9TyOQKitWXhUjIdn0YNlhKpwt",
      "include_colab_link": true
    },
    "kernelspec": {
      "name": "python3",
      "display_name": "Python 3"
    },
    "language_info": {
      "name": "python"
    }
  },
  "cells": [
    {
      "cell_type": "markdown",
      "metadata": {
        "id": "view-in-github",
        "colab_type": "text"
      },
      "source": [
        "<a href=\"https://colab.research.google.com/github/Aleksandr62aa/Test_task/blob/main/FC_NN_diabetes_ipynb%22.ipynb\" target=\"_parent\"><img src=\"https://colab.research.google.com/assets/colab-badge.svg\" alt=\"Open In Colab\"/></a>"
      ]
    },
    {
      "cell_type": "markdown",
      "source": [
        "**Classification of Diabetes**\n",
        "\n",
        "**Dataset Diabetes**"
      ],
      "metadata": {
        "id": "2YsJr5eEjnUt"
      }
    },
    {
      "cell_type": "markdown",
      "source": [
        "**Importing libraries**"
      ],
      "metadata": {
        "id": "K2UV5bb_kTcw"
      }
    },
    {
      "cell_type": "code",
      "source": [
        "!pip install torchinfo"
      ],
      "metadata": {
        "colab": {
          "base_uri": "https://localhost:8080/"
        },
        "id": "WS-c7TTUPfM3",
        "outputId": "a2b4e70c-5ae1-4d9e-c313-5060a51b4d35"
      },
      "execution_count": 97,
      "outputs": [
        {
          "output_type": "stream",
          "name": "stdout",
          "text": [
            "Requirement already satisfied: torchinfo in /usr/local/lib/python3.11/dist-packages (1.8.0)\n"
          ]
        }
      ]
    },
    {
      "cell_type": "code",
      "execution_count": 99,
      "metadata": {
        "id": "L6BGKq7EQEph"
      },
      "outputs": [],
      "source": [
        "import torch\n",
        "import random\n",
        "from torchinfo import summary\n",
        "import numpy as np\n",
        "import pandas as pd\n",
        "import matplotlib.pyplot as plt\n",
        "import torchvision.datasets\n",
        "from torch.utils.data import DataLoader, Dataset, random_split\n",
        "from sklearn.preprocessing import MinMaxScaler, StandardScaler\n",
        "from sklearn.metrics import accuracy_score, classification_report\n",
        "import csv\n",
        "import cv2\n",
        "from tqdm import tqdm\n",
        "\n",
        "# Fixed seed\n",
        "random.seed(9)\n",
        "np.random.seed(9)\n",
        "torch.manual_seed(9)\n",
        "torch.cuda.manual_seed(9)\n",
        "torch.backends.cudnn.deterministic = True"
      ]
    },
    {
      "cell_type": "code",
      "source": [
        "# Hyperparameters\n",
        "\n",
        "# Training\n",
        "num_epochs = 80\n",
        "learning_rate = 1.0e-3\n",
        "batch_size = 614\n",
        "\n",
        "# Dataset\n",
        "train_ratio = 0.8\n",
        "\n",
        "# Model\n",
        "input_size = 8\n",
        "n_hidden_1 = 64\n",
        "n_hidden_2 = 32\n",
        "n_hidden_3 = 16\n",
        "classes = 2"
      ],
      "metadata": {
        "id": "GqJY8_VS98v2"
      },
      "execution_count": 101,
      "outputs": []
    },
    {
      "cell_type": "markdown",
      "source": [
        "**Train Test dataset**"
      ],
      "metadata": {
        "id": "SHMr4Spcny37"
      }
    },
    {
      "cell_type": "code",
      "source": [
        "class CustomDataset(Dataset):\n",
        "    def __init__(self, tile_name, train=True, train_ratio=0.8):\n",
        "        self.tile_name = tile_name\n",
        "        self.train = train\n",
        "        self.train_ratio = train_ratio\n",
        "        self.load_data()\n",
        "\n",
        "    def load_data(self):\n",
        "        # read csv file\n",
        "        data_frame = pd.read_csv(self.tile_name)\n",
        "        x_np = data_frame.iloc[:,:-1].values\n",
        "        y_np = data_frame.iloc[:,-1].values\n",
        "\n",
        "        # Applying StandardScaler\n",
        "        scaler = StandardScaler()\n",
        "        x_scaler = scaler.fit_transform(x_np)\n",
        "\n",
        "        # converting to torch tensors\n",
        "        x_tensor = torch.tensor(x_scaler, dtype=torch.float32)\n",
        "        y_tensor = torch.tensor(y_np, dtype=torch.int64)\n",
        "\n",
        "        # Define Split Ratios\n",
        "        train_size = int(train_ratio * len(y_tensor))\n",
        "\n",
        "        if self.train:\n",
        "            self.X = x_tensor[:train_size]\n",
        "            self.y = y_tensor[:train_size]\n",
        "        else:\n",
        "            self.X = x_tensor[train_size:]\n",
        "            self.y = y_tensor[train_size:]\n",
        "\n",
        "    def __len__(self):\n",
        "        return len(self.y)\n",
        "\n",
        "    def __getitem__(self, index):\n",
        "        return self.X[index], self.y[index]"
      ],
      "metadata": {
        "id": "eoSO9u5kv2wJ"
      },
      "execution_count": 102,
      "outputs": []
    },
    {
      "cell_type": "code",
      "source": [
        "train_dataset = CustomDataset('diabetes.csv', train=True)\n",
        "test_dataset = CustomDataset('diabetes.csv', train=False)"
      ],
      "metadata": {
        "id": "F6VbX53y9yXn"
      },
      "execution_count": 103,
      "outputs": []
    },
    {
      "cell_type": "markdown",
      "source": [],
      "metadata": {
        "id": "AyPh8JURg0Dl"
      }
    },
    {
      "cell_type": "code",
      "source": [
        "print(len(train_dataset), len(test_dataset))\n",
        "print(train_dataset[0])\n",
        "print(test_dataset[0])"
      ],
      "metadata": {
        "colab": {
          "base_uri": "https://localhost:8080/"
        },
        "id": "PVugAbAPGOg3",
        "outputId": "849ad000-3981-45f0-f58c-f319cab6cc70"
      },
      "execution_count": 104,
      "outputs": [
        {
          "output_type": "stream",
          "name": "stdout",
          "text": [
            "614 154\n",
            "(tensor([ 0.6399,  0.8483,  0.1496,  0.9073, -0.6929,  0.2040,  0.4685,  1.4260]), tensor(1))\n",
            "(tensor([2.1248, 0.5354, 0.2530, 0.3427, 0.5574, 0.5213, 0.2571, 1.4260]), tensor(1))\n"
          ]
        }
      ]
    },
    {
      "cell_type": "code",
      "source": [
        "train_dataloader = DataLoader(train_dataset, batch_size=len(train_dataset), shuffle=True)\n",
        "test_dataloader = DataLoader(test_dataset, batch_size=len(test_dataset), shuffle=False)\n",
        "\n",
        "# train_dataloader = DataLoader(train_dataset, batch_size=batch_size, shuffle=True)\n",
        "# test_dataloader = DataLoader(test_dataset, batch_size=batch_size, shuffle=False)"
      ],
      "metadata": {
        "id": "oJRTUtY7QulA"
      },
      "execution_count": 105,
      "outputs": []
    },
    {
      "cell_type": "code",
      "source": [
        "for batch in train_dataloader :\n",
        "    X_batch, y_batch = batch\n",
        "    print( y_batch.sum())"
      ],
      "metadata": {
        "colab": {
          "base_uri": "https://localhost:8080/"
        },
        "id": "Uqw-ZUFQ9Drm",
        "outputId": "d6d1633f-34a8-4bc5-ea9e-1f6882f32218"
      },
      "execution_count": 106,
      "outputs": [
        {
          "output_type": "stream",
          "name": "stdout",
          "text": [
            "tensor(213)\n"
          ]
        }
      ]
    },
    {
      "cell_type": "code",
      "source": [
        "print(len(train_dataset), len(train_dataloader))\n",
        "print(len(test_dataset), len(test_dataloader))"
      ],
      "metadata": {
        "colab": {
          "base_uri": "https://localhost:8080/"
        },
        "id": "nFtDNxqvluBT",
        "outputId": "b9523a27-9d52-48d6-c9cb-4e940c7d144b"
      },
      "execution_count": 107,
      "outputs": [
        {
          "output_type": "stream",
          "name": "stdout",
          "text": [
            "614 1\n",
            "154 1\n"
          ]
        }
      ]
    },
    {
      "cell_type": "markdown",
      "source": [],
      "metadata": {
        "id": "lyn1hUzDDIC1"
      }
    },
    {
      "cell_type": "code",
      "source": [
        "# GPU\n",
        "device = torch.device(\"cuda:0\" if torch.cuda.is_available() else \"cpu\")\n",
        "device"
      ],
      "metadata": {
        "colab": {
          "base_uri": "https://localhost:8080/"
        },
        "id": "cOECR6jYoNY9",
        "outputId": "031441c8-be95-459e-e6be-25fa03f10c45"
      },
      "execution_count": 108,
      "outputs": [
        {
          "output_type": "execute_result",
          "data": {
            "text/plain": [
              "device(type='cpu')"
            ]
          },
          "metadata": {},
          "execution_count": 108
        }
      ]
    },
    {
      "cell_type": "markdown",
      "source": [
        "**Model FC NN**"
      ],
      "metadata": {
        "id": "bn67YHTBpCVc"
      }
    },
    {
      "cell_type": "code",
      "source": [
        "class DiabedNet(torch.nn.Module):\n",
        "    def __init__(self, input_size):\n",
        "        # super().__init__()\n",
        "        super(DiabedNet, self).__init__()\n",
        "        self.fc1 = torch.nn.Linear(input_size, n_hidden_1)\n",
        "        self.fc2 = torch.nn.Linear(n_hidden_1, n_hidden_2)\n",
        "        self.fc3 = torch.nn.Linear(n_hidden_2, n_hidden_3)\n",
        "        self.fc4 = torch.nn.Linear(n_hidden_3, classes)\n",
        "        self.relu = torch.nn.ReLU()\n",
        "        # self.drop_out = torch.nn.Dropout(p=0.2)\n",
        "\n",
        "    def forward(self, x):\n",
        "        x = self.fc1(x)\n",
        "        x = self.relu(x)\n",
        "        x = self.fc2(x)\n",
        "        x = self.relu(x)\n",
        "        x = self.fc3(x)\n",
        "        x = self.relu(x)\n",
        "        x = self.fc4(x)\n",
        "        return x"
      ],
      "metadata": {
        "id": "nV45lqeyRKOL"
      },
      "execution_count": 109,
      "outputs": []
    },
    {
      "cell_type": "code",
      "source": [
        "model = DiabedNet(input_size).to(device)"
      ],
      "metadata": {
        "id": "NTajgzqgTt0x",
        "collapsed": true
      },
      "execution_count": 110,
      "outputs": []
    },
    {
      "cell_type": "code",
      "source": [
        "summary(model, input_size=(1, 8))"
      ],
      "metadata": {
        "colab": {
          "base_uri": "https://localhost:8080/"
        },
        "id": "Itz-C8TGLRPc",
        "outputId": "d134d06e-b250-4791-e647-29f14aeec0e5"
      },
      "execution_count": 111,
      "outputs": [
        {
          "output_type": "execute_result",
          "data": {
            "text/plain": [
              "==========================================================================================\n",
              "Layer (type:depth-idx)                   Output Shape              Param #\n",
              "==========================================================================================\n",
              "DiabedNet                                [1, 2]                    --\n",
              "├─Linear: 1-1                            [1, 64]                   576\n",
              "├─ReLU: 1-2                              [1, 64]                   --\n",
              "├─Linear: 1-3                            [1, 32]                   2,080\n",
              "├─ReLU: 1-4                              [1, 32]                   --\n",
              "├─Linear: 1-5                            [1, 16]                   528\n",
              "├─ReLU: 1-6                              [1, 16]                   --\n",
              "├─Linear: 1-7                            [1, 2]                    34\n",
              "==========================================================================================\n",
              "Total params: 3,218\n",
              "Trainable params: 3,218\n",
              "Non-trainable params: 0\n",
              "Total mult-adds (Units.MEGABYTES): 0.00\n",
              "==========================================================================================\n",
              "Input size (MB): 0.00\n",
              "Forward/backward pass size (MB): 0.00\n",
              "Params size (MB): 0.01\n",
              "Estimated Total Size (MB): 0.01\n",
              "=========================================================================================="
            ]
          },
          "metadata": {},
          "execution_count": 111
        }
      ]
    },
    {
      "cell_type": "markdown",
      "source": [
        "**Loss function**"
      ],
      "metadata": {
        "id": "eTxr_uugpXXI"
      }
    },
    {
      "cell_type": "code",
      "source": [
        "class_weights = torch.tensor([0.3, 0.7])  # веса\n",
        "loss = torch.nn.CrossEntropyLoss(class_weights)"
      ],
      "metadata": {
        "id": "gHSTVwLSpcUG"
      },
      "execution_count": 112,
      "outputs": []
    },
    {
      "cell_type": "markdown",
      "source": [
        "**Optimizer**"
      ],
      "metadata": {
        "id": "lEoHEUEIppem"
      }
    },
    {
      "cell_type": "code",
      "source": [
        "optimizer = torch.optim.Adam(model.parameters(), lr=learning_rate)"
      ],
      "metadata": {
        "id": "HA53VBWsRguR"
      },
      "execution_count": 113,
      "outputs": []
    },
    {
      "cell_type": "markdown",
      "source": [
        "**Training procedure**"
      ],
      "metadata": {
        "id": "TEHSjBSFp1gJ"
      }
    },
    {
      "cell_type": "code",
      "source": [
        "train_loss_history = []\n",
        "train_accuracy_history = []\n",
        "test_loss_history = []\n",
        "test_accuracy_history = []\n",
        "\n",
        "for epoch in tqdm(range(num_epochs)):   # цикл обучения по эпохам\n",
        "    running_loss_train = 0.\n",
        "    running_acc_train = 0.\n",
        "    model.train()\n",
        "\n",
        "    for batch in train_dataloader:# цикл обучения по бачам\n",
        "        optimizer.zero_grad()\n",
        "        X_batch, y_batch = batch\n",
        "\n",
        "        X_batch = X_batch.to(device)\n",
        "        y_batch = y_batch.to(device)\n",
        "\n",
        "        y_preds = model.forward(X_batch)\n",
        "\n",
        "        # loss функция\n",
        "        loss_train = loss(y_preds, y_batch)\n",
        "\n",
        "        loss_train.backward()\n",
        "        optimizer.step()\n",
        "        running_loss_train += loss_train.cpu().detach().numpy()\n",
        "        running_acc_train += (y_preds.argmax(dim=1) == y_batch).float().mean().cpu().detach().numpy()\n",
        "    epoch_loss = running_loss_train/ len(train_dataloader)\n",
        "    train_loss_history.append(epoch_loss)\n",
        "\n",
        "    epoch_acc = running_acc_train/len(train_dataloader)\n",
        "    train_accuracy_history .append(epoch_acc)\n",
        "\n",
        "    # тестирование модели\n",
        "    running_loss_test = 0.\n",
        "    running_acc_test = 0.\n",
        "    model.eval()\n",
        "\n",
        "    for batch in test_dataloader:\n",
        "        X_batch, y_batch = batch\n",
        "        X_batch = X_batch.to(device)\n",
        "        y_batch = y_batch.to(device)\n",
        "\n",
        "        y_preds = model.forward(X_batch)\n",
        "\n",
        "        running_loss_test += loss(y_preds, y_batch).cpu().detach().numpy()\n",
        "        running_acc_test += (y_preds.argmax(dim=1) == y_batch).float().mean().cpu().detach().numpy()\n",
        "\n",
        "    epoch_loss = running_loss_test/len(test_dataloader)\n",
        "    test_loss_history.append(epoch_loss)\n",
        "\n",
        "    epoch_acc = running_acc_test/len(test_dataloader)\n",
        "    test_accuracy_history.append(epoch_acc)\n"
      ],
      "metadata": {
        "id": "DsiPRGS4RgxX",
        "colab": {
          "base_uri": "https://localhost:8080/"
        },
        "outputId": "9e04cbce-33d8-4dd5-e706-e5c550d579a4"
      },
      "execution_count": 114,
      "outputs": [
        {
          "output_type": "stream",
          "name": "stderr",
          "text": [
            "100%|██████████| 80/80 [00:01<00:00, 44.08it/s]\n"
          ]
        }
      ]
    },
    {
      "cell_type": "code",
      "source": [
        "# # Evaluate the model using PyTorch\n",
        "\n",
        "# y_true = []\n",
        "# y_pred = []\n",
        "# model.eval()\n",
        "\n",
        "# for batch in test_dataloader:\n",
        "#     X_batch, y_batch = batch\n",
        "#     X_batch = X_batch.to(device)\n",
        "#     outputs = model(X_batch)\n",
        "#     _, y_preds = torch.max(outputs, dim=1)\n",
        "#     y_pred.extend(y_preds.cpu().numpy())\n",
        "#     y_true.extend(y_batch.cpu().numpy())\n",
        "\n",
        "# # Convert lists to tensors for calculation\n",
        "# y_true_tensor = torch.tensor(y_true)\n",
        "# y_pred_tensor = torch.tensor(y_pred)\n",
        "\n",
        "# # Calculating precision, recall, and F1 score using PyTorch\n",
        "# TP = ((y_pred_tensor == 1) & (y_true_tensor == 1)).sum().item()\n",
        "# TN = ((y_pred_tensor == 0) & (y_true_tensor == 0)).sum().item()\n",
        "# FP = ((y_pred_tensor == 1) & (y_true_tensor == 0)).sum().item()\n",
        "# FN = ((y_pred_tensor == 0) & (y_true_tensor == 1)).sum().item()\n",
        "\n",
        "# accuracy = (TP + TN) / (TP + TN + FP + FN) if TP + TN + FP + FN > 0 else 0\n",
        "\n",
        "# precision_0 = TN / (TN + FN) if TN + FN > 0 else 0\n",
        "# precision_1 = TP / (TP + FP) if TP + FP > 0 else 0\n",
        "# recall_0 = TN / (TN + FP) if TN + FP > 0 else 0\n",
        "# recall_1 = TP / (TP + FN) if TP + FN > 0 else 0\n",
        "\n",
        "# f1_0 = 2 * (precision_0 * recall_0) / (precision_0 + recall_0) if (precision_0 + recall_0) > 0 else 0\n",
        "# f1_1 = 2 * (precision_1 * recall_1) / (precision_1 + recall_1) if (precision_1 + recall_1) > 0 else 0\n",
        "\n",
        "# print(f'Accuracy: {accuracy:.4f}')\n",
        "# print(f'Precision_0: {precision_0:.4f}, Precision_1: {precision_1:.4f}')\n",
        "# print(f'Recall_0: {recall_0:.4f}, Recall_1: {recall_1:.4f}')\n",
        "# print(f'F1-Score_0: {f1_0:.4f}, F1-Score_1: {f1_1:.4f}')"
      ],
      "metadata": {
        "id": "VlK5XOLUSEXz",
        "collapsed": true
      },
      "execution_count": 92,
      "outputs": []
    },
    {
      "cell_type": "code",
      "source": [
        "y_true = []\n",
        "y_pred = []\n",
        "model.eval()\n",
        "\n",
        "for batch in test_dataloader:\n",
        "    X_batch, y_batch = batch\n",
        "    X_batch = X_batch.to(device)\n",
        "    outputs = model(X_batch)\n",
        "    _, y_preds = torch.max(outputs, dim=1)\n",
        "    y_pred.extend(y_preds.cpu().detach().numpy())\n",
        "    y_true.extend(y_batch.cpu().detach().numpy())\n",
        "\n",
        "print(f'Accuracy: {accuracy_score(y_true, y_pred):.4f}')\n",
        "print(f'\\nClassification Report:\\n {classification_report(y_true, y_pred)}')"
      ],
      "metadata": {
        "colab": {
          "base_uri": "https://localhost:8080/"
        },
        "id": "EjupoNjwK4ET",
        "outputId": "18425ca0-2ae1-4ddd-a5b4-d18a669c16e7"
      },
      "execution_count": 115,
      "outputs": [
        {
          "output_type": "stream",
          "name": "stdout",
          "text": [
            "Accuracy: 0.7857\n",
            "\n",
            "Classification Report:\n",
            "               precision    recall  f1-score   support\n",
            "\n",
            "           0       0.87      0.79      0.83        99\n",
            "           1       0.67      0.78      0.72        55\n",
            "\n",
            "    accuracy                           0.79       154\n",
            "   macro avg       0.77      0.78      0.77       154\n",
            "weighted avg       0.80      0.79      0.79       154\n",
            "\n"
          ]
        }
      ]
    },
    {
      "cell_type": "markdown",
      "source": [
        "**Result test**"
      ],
      "metadata": {
        "id": "_yWKqrKU85rF"
      }
    },
    {
      "cell_type": "code",
      "source": [
        "plt.plot(train_loss_history, label='traim')\n",
        "plt.plot(test_loss_history, label='test')\n",
        "plt.legend(loc='best')\n",
        "plt.title('Loss');"
      ],
      "metadata": {
        "id": "8LxEqLCJRg0u",
        "colab": {
          "base_uri": "https://localhost:8080/",
          "height": 452
        },
        "outputId": "98ac8cec-f4a2-40fe-ad59-efdf7a68e76f"
      },
      "execution_count": 116,
      "outputs": [
        {
          "output_type": "display_data",
          "data": {
            "text/plain": [
              "<Figure size 640x480 with 1 Axes>"
            ],
            "image/png": "[encoded data removed]"
          },
          "metadata": {}
        }
      ]
    },
    {
      "cell_type": "code",
      "source": [
        "plt.plot(train_accuracy_history, label='train')\n",
        "plt.plot(test_accuracy_history, label='test')\n",
        "plt.legend(loc='best')\n",
        "plt.title('Accuracy');"
      ],
      "metadata": {
        "id": "47vBjZ4Or8pA",
        "colab": {
          "base_uri": "https://localhost:8080/",
          "height": 452
        },
        "outputId": "81712939-939e-4765-e757-c92977680049"
      },
      "execution_count": 117,
      "outputs": [
        {
          "output_type": "display_data",
          "data": {
            "text/plain": [
              "<Figure size 640x480 with 1 Axes>"
            ],
            "image/png": "[encoded data removed]"
          },
          "metadata": {}
        }
      ]
    },
    {
      "cell_type": "code",
      "source": [
        "# Save the model state\n",
        "st = model.state_dict()\n",
        "torch.save(st, 'diab_model.tar')\n",
        "# torch.save(st, 'diab_model.pth')"
      ],
      "metadata": {
        "id": "bKrDiNx3gd05"
      },
      "execution_count": 119,
      "outputs": []
    },
    {
      "cell_type": "code",
      "source": [
        ""
      ],
      "metadata": {
        "id": "7ZiROMiStOZI"
      },
      "execution_count": null,
      "outputs": []
    }
  ]
}