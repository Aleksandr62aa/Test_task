{
  "nbformat": 4,
  "nbformat_minor": 0,
  "metadata": {
    "colab": {
      "provenance": [],
      "authorship_tag": "ABX9TyNQp63H2xhaNmlCNVgSoMvw",
      "include_colab_link": true
    },
    "kernelspec": {
      "name": "python3",
      "display_name": "Python 3"
    },
    "language_info": {
      "name": "python"
    }
  },
  "cells": [
    {
      "cell_type": "markdown",
      "metadata": {
        "id": "view-in-github",
        "colab_type": "text"
      },
      "source": [
        "<a href=\"https://colab.research.google.com/github/Aleksandr62aa/Test_task/blob/main/FC_NN_diabetes_ipynb%22.ipynb\" target=\"_parent\"><img src=\"https://colab.research.google.com/assets/colab-badge.svg\" alt=\"Open In Colab\"/></a>"
      ]
    },
    {
      "cell_type": "markdown",
      "source": [
        "**Classification of Diabetes**\n",
        "\n",
        "**Dataset Diabetes**"
      ],
      "metadata": {
        "id": "2YsJr5eEjnUt"
      }
    },
    {
      "cell_type": "markdown",
      "source": [
        "**Importing libraries**"
      ],
      "metadata": {
        "id": "K2UV5bb_kTcw"
      }
    },
    {
      "cell_type": "code",
      "execution_count": 192,
      "metadata": {
        "id": "L6BGKq7EQEph"
      },
      "outputs": [],
      "source": [
        "import torch\n",
        "import random\n",
        "import numpy as np\n",
        "import pandas as pd\n",
        "import matplotlib.pyplot as plt\n",
        "import torchvision.datasets\n",
        "from torch.utils.data import DataLoader, Dataset, random_split\n",
        "from sklearn.preprocessing import MinMaxScaler\n",
        "import csv\n",
        "import cv2\n",
        "from tqdm import tqdm\n",
        "\n",
        "# Fixed seed\n",
        "random.seed(9)\n",
        "np.random.seed(9)\n",
        "torch.manual_seed(9)\n",
        "torch.cuda.manual_seed(9)\n",
        "torch.backends.cudnn.deterministic = True"
      ]
    },
    {
      "cell_type": "code",
      "source": [
        "# Hyperparameters\n",
        "\n",
        "# Training\n",
        "num_epochs = 200\n",
        "learning_rate = 1.0e-3\n",
        "\n",
        "# Dataset\n",
        "train_ratio = 0.8\n",
        "\n",
        "# Model\n",
        "input_size = 8\n",
        "n_hidden_1 = 64\n",
        "n_hidden_2 = 32\n",
        "n_hidden_3 = 16\n",
        "classes = 2\n",
        "\n",
        "output_neurons = 2"
      ],
      "metadata": {
        "id": "GqJY8_VS98v2"
      },
      "execution_count": 193,
      "outputs": []
    },
    {
      "cell_type": "markdown",
      "source": [
        "**Train Test dataset**"
      ],
      "metadata": {
        "id": "SHMr4Spcny37"
      }
    },
    {
      "cell_type": "code",
      "source": [
        "class CustomDataset(Dataset):\n",
        "    def __init__(self, tile_name):\n",
        "        # read csv file\n",
        "        file_out = pd.read_csv(tile_name)\n",
        "        x = file_out.iloc[:,:-1].values\n",
        "        y = file_out.iloc[:,-1].values\n",
        "        # converting to torch tensors\n",
        "        # scaler = MinMaxScaler()\n",
        "        # x = scaler.fit_transform(x)\n",
        "        self.X = torch.tensor(x, dtype=torch.float32)\n",
        "        self.y = torch.tensor(y, dtype=torch.int64)\n",
        "\n",
        "    def __len__(self):\n",
        "        return len(self.y)\n",
        "\n",
        "    def __getitem__(self, index):\n",
        "        return self.X[index], self.y[index]"
      ],
      "metadata": {
        "id": "eoSO9u5kv2wJ"
      },
      "execution_count": 194,
      "outputs": []
    },
    {
      "cell_type": "code",
      "source": [
        "dataset = CustomDataset('diabetes.csv')"
      ],
      "metadata": {
        "id": "F6VbX53y9yXn"
      },
      "execution_count": 195,
      "outputs": []
    },
    {
      "cell_type": "code",
      "source": [
        "# Define Split Ratios\n",
        "train_size = int(train_ratio * len(dataset))\n",
        "test_size = len(dataset) - train_size\n",
        "train_data, test_data = random_split(dataset, [train_size, test_size])"
      ],
      "metadata": {
        "id": "NwA4La4b7W82"
      },
      "execution_count": 196,
      "outputs": []
    },
    {
      "cell_type": "code",
      "source": [
        "print(len(train_data), len(test_data))\n",
        "print(train_data[0], test_data[0])"
      ],
      "metadata": {
        "colab": {
          "base_uri": "https://localhost:8080/"
        },
        "id": "PVugAbAPGOg3",
        "outputId": "efc9c123-1948-4373-c845-ae6b47e30617"
      },
      "execution_count": 197,
      "outputs": [
        {
          "output_type": "stream",
          "name": "stdout",
          "text": [
            "614 154\n",
            "(tensor([  1.0000, 109.0000,  60.0000,   8.0000, 182.0000,  25.4000,   0.9470,\n",
            "         21.0000]), tensor(0)) (tensor([  0.0000, 100.0000,  70.0000,  26.0000,  50.0000,  30.8000,   0.5970,\n",
            "         21.0000]), tensor(0))\n"
          ]
        }
      ]
    },
    {
      "cell_type": "code",
      "source": [
        "train_dataloader = DataLoader(train_data, batch_size=len(train_data), shuffle=True)\n",
        "test_dataloader = DataLoader(test_data, batch_size=len(test_data), shuffle=False)"
      ],
      "metadata": {
        "id": "oJRTUtY7QulA"
      },
      "execution_count": 198,
      "outputs": []
    },
    {
      "cell_type": "code",
      "source": [
        "for batch in train_dataloader :\n",
        "    X_batch, y_batch = batch\n",
        "    print( y_batch.sum())\n"
      ],
      "metadata": {
        "colab": {
          "base_uri": "https://localhost:8080/"
        },
        "id": "Uqw-ZUFQ9Drm",
        "outputId": "d1cba357-babf-49b6-e404-cd76c8051c1a"
      },
      "execution_count": 199,
      "outputs": [
        {
          "output_type": "stream",
          "name": "stdout",
          "text": [
            "tensor(202)\n"
          ]
        }
      ]
    },
    {
      "cell_type": "code",
      "source": [
        "print(len(train_data), len(train_dataloader))\n",
        "print(len(test_data), len(test_dataloader))"
      ],
      "metadata": {
        "colab": {
          "base_uri": "https://localhost:8080/"
        },
        "id": "nFtDNxqvluBT",
        "outputId": "4cf3b377-837d-46c7-b9d1-03296ac6113e"
      },
      "execution_count": 200,
      "outputs": [
        {
          "output_type": "stream",
          "name": "stdout",
          "text": [
            "614 1\n",
            "154 1\n"
          ]
        }
      ]
    },
    {
      "cell_type": "markdown",
      "source": [],
      "metadata": {
        "id": "lyn1hUzDDIC1"
      }
    },
    {
      "cell_type": "code",
      "source": [
        "# GPU\n",
        "device = torch.device(\"cuda:0\" if torch.cuda.is_available() else \"cpu\")\n",
        "device"
      ],
      "metadata": {
        "colab": {
          "base_uri": "https://localhost:8080/"
        },
        "id": "cOECR6jYoNY9",
        "outputId": "83c438aa-3643-406b-dbba-74ebda9e5597"
      },
      "execution_count": 201,
      "outputs": [
        {
          "output_type": "execute_result",
          "data": {
            "text/plain": [
              "device(type='cpu')"
            ]
          },
          "metadata": {},
          "execution_count": 201
        }
      ]
    },
    {
      "cell_type": "markdown",
      "source": [
        "**Model FC NN**"
      ],
      "metadata": {
        "id": "bn67YHTBpCVc"
      }
    },
    {
      "cell_type": "code",
      "source": [
        "class DiabedNet(torch.nn.Module):\n",
        "    def __init__(self, input_size):\n",
        "        super().__init__()\n",
        "        self.fc1 = torch.nn.Linear(input_size, n_hidden_1)\n",
        "        self.ac1 = torch.nn.ReLU()\n",
        "        self.fc2 = torch.nn.Linear(n_hidden_1, n_hidden_2)\n",
        "        self.ac2 = torch.nn.ReLU()\n",
        "        self.fc3 = torch.nn.Linear(n_hidden_2, n_hidden_3)\n",
        "        self.ac3 = torch.nn.ReLU()\n",
        "        # self.drop_out = torch.nn.Dropout(p=0.2)\n",
        "        self.fc4 = torch.nn.Linear(n_hidden_3, classes)\n",
        "\n",
        "    def forward(self, x):\n",
        "        x = self.fc1(x)\n",
        "        x = self.ac1(x)\n",
        "        x = self.fc2(x)\n",
        "        x = self.ac2(x)\n",
        "        x = self.fc3(x)\n",
        "        x = self.ac3(x)\n",
        "        x = self.fc4(x)\n",
        "        return x\n",
        "\n",
        "model = DiabedNet(input_size).to(device)"
      ],
      "metadata": {
        "id": "nV45lqeyRKOL"
      },
      "execution_count": 202,
      "outputs": []
    },
    {
      "cell_type": "code",
      "source": [
        "model"
      ],
      "metadata": {
        "colab": {
          "base_uri": "https://localhost:8080/"
        },
        "id": "NTajgzqgTt0x",
        "outputId": "e2dfbb8d-e5a4-4bdc-b74d-3b420194504f"
      },
      "execution_count": 203,
      "outputs": [
        {
          "output_type": "execute_result",
          "data": {
            "text/plain": [
              "DiabedNet(\n",
              "  (fc1): Linear(in_features=8, out_features=64, bias=True)\n",
              "  (ac1): ReLU()\n",
              "  (fc2): Linear(in_features=64, out_features=32, bias=True)\n",
              "  (ac2): ReLU()\n",
              "  (fc3): Linear(in_features=32, out_features=16, bias=True)\n",
              "  (ac3): ReLU()\n",
              "  (fc4): Linear(in_features=16, out_features=2, bias=True)\n",
              ")"
            ]
          },
          "metadata": {},
          "execution_count": 203
        }
      ]
    },
    {
      "cell_type": "markdown",
      "source": [
        "**Loss function**"
      ],
      "metadata": {
        "id": "eTxr_uugpXXI"
      }
    },
    {
      "cell_type": "code",
      "source": [
        "class_weights = torch.tensor([0.3, 0.7])  # веса\n",
        "loss = torch.nn.CrossEntropyLoss(weight=class_weights)"
      ],
      "metadata": {
        "id": "gHSTVwLSpcUG"
      },
      "execution_count": 204,
      "outputs": []
    },
    {
      "cell_type": "markdown",
      "source": [
        "**Optimizer**"
      ],
      "metadata": {
        "id": "lEoHEUEIppem"
      }
    },
    {
      "cell_type": "code",
      "source": [
        "optimizer = torch.optim.Adam(model.parameters(), lr=learning_rate)"
      ],
      "metadata": {
        "id": "HA53VBWsRguR"
      },
      "execution_count": 205,
      "outputs": []
    },
    {
      "cell_type": "markdown",
      "source": [
        "**Training procedure**"
      ],
      "metadata": {
        "id": "TEHSjBSFp1gJ"
      }
    },
    {
      "cell_type": "code",
      "source": [
        "train_loss_history = []\n",
        "train_accuracy_history = []\n",
        "test_loss_history = []\n",
        "test_accuracy_history = []\n",
        "\n",
        "for epoch in tqdm(range(num_epochs)):   # цикл обучения по эпохам\n",
        "\n",
        "    running_loss_train = 0.\n",
        "    running_acc_train = 0.\n",
        "\n",
        "    for batch in train_dataloader:# цикл обучения по бачам\n",
        "        model.train()\n",
        "        optimizer.zero_grad()\n",
        "        X_batch, y_batch = batch\n",
        "\n",
        "        X_batch = X_batch.to(device)\n",
        "        y_batch = y_batch.to(device)\n",
        "\n",
        "        y_preds = model.forward(X_batch)\n",
        "\n",
        "        # loss функция\n",
        "        loss_train = loss(y_preds, y_batch)\n",
        "\n",
        "        loss_train.backward()\n",
        "        optimizer.step()\n",
        "        running_loss_train += loss_train.cpu().detach().numpy()\n",
        "        running_acc_train += (y_preds.argmax(dim=1) == y_batch).float().mean().cpu().detach().numpy()\n",
        "    epoch_loss = running_loss_train/ len(train_dataloader)\n",
        "    train_loss_history.append(epoch_loss)\n",
        "\n",
        "    epoch_acc = running_acc_train/len(train_dataloader)\n",
        "    train_accuracy_history .append(epoch_acc)\n",
        "\n",
        "    # тестирование модели\n",
        "    running_loss_test = 0.\n",
        "    running_acc_test = 0.\n",
        "    model.eval()\n",
        "\n",
        "    for batch in test_dataloader:\n",
        "        X_batch, y_batch = batch\n",
        "        X_batch = X_batch.to(device)\n",
        "        y_batch = y_batch.to(device)\n",
        "\n",
        "        y_preds = model.forward(X_batch)\n",
        "\n",
        "        running_loss_test += loss(y_preds, y_batch).cpu().detach().numpy()\n",
        "        running_acc_test += (y_preds.argmax(dim=1) == y_batch).float().mean().cpu().detach().numpy()\n",
        "\n",
        "    epoch_loss = running_loss_test/len(test_dataloader)\n",
        "    test_loss_history.append(epoch_loss)\n",
        "\n",
        "    epoch_acc = running_acc_test/len(test_dataloader)\n",
        "    test_accuracy_history.append(epoch_acc)\n"
      ],
      "metadata": {
        "id": "DsiPRGS4RgxX",
        "colab": {
          "base_uri": "https://localhost:8080/"
        },
        "outputId": "64aca767-3786-4938-cef1-31456c972ba7"
      },
      "execution_count": 206,
      "outputs": [
        {
          "output_type": "stream",
          "name": "stderr",
          "text": [
            "100%|██████████| 200/200 [00:03<00:00, 66.06it/s]\n"
          ]
        }
      ]
    },
    {
      "cell_type": "code",
      "source": [
        "# Evaluate the model using PyTorch\n",
        "\n",
        "y_true = []\n",
        "y_pred = []\n",
        "model.eval()\n",
        "\n",
        "for batch in test_dataloader:\n",
        "    X_batch, y_batch = batch\n",
        "    X_batch = X_batch.to(device)\n",
        "    outputs = model(X_batch)\n",
        "    _, y_preds = torch.max(outputs, dim=1)\n",
        "    y_pred.extend(y_preds.cpu().numpy())\n",
        "    y_true.extend(y_batch.cpu().numpy())\n",
        "\n",
        "# Convert lists to tensors for calculation\n",
        "y_true_tensor = torch.tensor(y_true)\n",
        "y_pred_tensor = torch.tensor(y_pred)\n",
        "\n",
        "# Calculating precision, recall, and F1 score using PyTorch\n",
        "TP = ((y_pred_tensor == 1) & (y_true_tensor == 1)).sum().item()\n",
        "TN = ((y_pred_tensor == 0) & (y_true_tensor == 0)).sum().item()\n",
        "FP = ((y_pred_tensor == 1) & (y_true_tensor == 0)).sum().item()\n",
        "FN = ((y_pred_tensor == 0) & (y_true_tensor == 1)).sum().item()\n",
        "\n",
        "accuracy = (TP + TN) / (TP + TN + FP + FN) if TP + TN + FP + FN > 0 else 0\n",
        "\n",
        "precision_0 = TN / (TN + FN) if TN + FN > 0 else 0\n",
        "precision_1 = TP / (TP + FP) if TP + FP > 0 else 0\n",
        "recall_0 = TN / (TN + FP) if TN + FP > 0 else 0\n",
        "recall_1 = TP / (TP + FN) if TP + FN > 0 else 0\n",
        "\n",
        "f1_0 = 2 * (precision_0 * recall_0) / (precision_0 + recall_0) if (precision_0 + recall_0) > 0 else 0\n",
        "f1_1 = 2 * (precision_1 * recall_1) / (precision_1 + recall_1) if (precision_1 + recall_1) > 0 else 0\n",
        "\n",
        "print(f'Accuracy: {accuracy:.4f}')\n",
        "print(f'Precision_0: {precision_0:.4f}, Precision_1: {precision_1:.4f}')\n",
        "print(f'Recall_0: {recall_0:.4f}, Recall_1: {recall_1:.4f}')\n",
        "print(f'F1-Score_0: {f1_0:.4f}, F1-Score_1: {f1_1:.4f}')"
      ],
      "metadata": {
        "colab": {
          "base_uri": "https://localhost:8080/"
        },
        "id": "VlK5XOLUSEXz",
        "outputId": "4f607b58-a9b9-4089-d510-d465709c1272"
      },
      "execution_count": 213,
      "outputs": [
        {
          "output_type": "stream",
          "name": "stdout",
          "text": [
            "Accuracy: 0.7338\n",
            "Precision_0: 0.8052, Precision_1: 0.6623\n",
            "Recall_0: 0.7045, Recall_1: 0.7727\n",
            "F1-Score_0: 0.7515, F1-Score_1: 0.7133\n"
          ]
        }
      ]
    },
    {
      "cell_type": "markdown",
      "source": [
        "**Result test**"
      ],
      "metadata": {
        "id": "_yWKqrKU85rF"
      }
    },
    {
      "cell_type": "code",
      "source": [
        "plt.plot(train_loss_history, label='traim')\n",
        "plt.plot(test_loss_history, label='test')\n",
        "plt.legend(loc='best')\n",
        "plt.title('Loss');"
      ],
      "metadata": {
        "id": "8LxEqLCJRg0u",
        "colab": {
          "base_uri": "https://localhost:8080/",
          "height": 452
        },
        "outputId": "9b06aa33-6314-45f5-c55e-1a879104f193"
      },
      "execution_count": 208,
      "outputs": [
        {
          "output_type": "display_data",
          "data": {
            "text/plain": [
              "<Figure size 640x480 with 1 Axes>"
            ],
            "image/png": "[encoded data removed]"
          },
          "metadata": {}
        }
      ]
    },
    {
      "cell_type": "code",
      "source": [
        "plt.plot(train_accuracy_history, label='train')\n",
        "plt.plot(test_accuracy_history, label='test')\n",
        "plt.legend(loc='best')\n",
        "plt.title('Accuracy');"
      ],
      "metadata": {
        "id": "47vBjZ4Or8pA",
        "colab": {
          "base_uri": "https://localhost:8080/",
          "height": 452
        },
        "outputId": "90f3faf2-7714-465f-ea53-02d9e94f0d90"
      },
      "execution_count": 209,
      "outputs": [
        {
          "output_type": "display_data",
          "data": {
            "text/plain": [
              "<Figure size 640x480 with 1 Axes>"
            ],
            "image/png": "[encoded data removed]"
          },
          "metadata": {}
        }
      ]
    },
    {
      "cell_type": "code",
      "source": [
        "# Save the model state\n",
        "st = model.state_dict()\n",
        "torch.save(st, 'diab_net.tar')\n",
        "# torch.save(st, 'mnist_net.pth')"
      ],
      "metadata": {
        "id": "bKrDiNx3gd05"
      },
      "execution_count": null,
      "outputs": []
    },
    {
      "cell_type": "code",
      "source": [
        "# mnist_net.fc1.weight.data, mnist_net.fc1.bias.data"
      ],
      "metadata": {
        "id": "7mU3Zm7p9wms"
      },
      "execution_count": null,
      "outputs": []
    },
    {
      "cell_type": "code",
      "source": [
        "##########################################################33"
      ],
      "metadata": {
        "id": "T6lC5kW-h3KU"
      },
      "execution_count": null,
      "outputs": []
    },
    {
      "cell_type": "code",
      "source": [],
      "metadata": {
        "id": "7ZiROMiStOZI"
      },
      "execution_count": null,
      "outputs": []
    }
  ]
}