{
  "cells": [
    {
      "cell_type": "markdown",
      "metadata": {
        "id": "view-in-github",
        "colab_type": "text"
      },
      "source": [
        "<a href=\"https://colab.research.google.com/github/Aleksandr62aa/Test_task/blob/main/Test_task_1.ipynb\" target=\"_parent\"><img src=\"https://colab.research.google.com/assets/colab-badge.svg\" alt=\"Open In Colab\"/></a>"
      ]
    },
    {
      "cell_type": "code",
      "execution_count": null,
      "metadata": {
        "id": "H7pIwBGKirc9"
      },
      "outputs": [],
      "source": [
        "# Importing libraries\n",
        "import cv2\n",
        "import numpy as np\n",
        "import matplotlib.pyplot as plt\n",
        "from PIL import Image\n",
        "import math\n",
        "from google.colab.patches import cv2_imshow"
      ]
    },
    {
      "cell_type": "code",
      "execution_count": null,
      "metadata": {
        "id": "cR3UHh7QsmZo"
      },
      "outputs": [],
      "source": [
        "# Configuration parameters\n",
        "\n",
        "# Rotation angle big\n",
        "angle_big = [0, 5, 10, 15, 20, 25]  # 20\n",
        "\n",
        "# Size small\n",
        "k_small = [1, 1.5, 2] # 1.5\n",
        "\n",
        "# Detected region big\n",
        "x_big = [0, 1000, 2000, 3000, 4000, 5000, 6000] # 3000\n",
        "y_big = [0, 1000, 2000, 3000, 4000, 5000, 6000, 7000, 8000] # 3000\n",
        "\n",
        "# Coordinates of region big\n",
        "dx_big = 2500\n",
        "dy_big = 4500\n",
        "\n",
        "# Saving results\n",
        "results = {}\n",
        "\n",
        "# Background\n",
        "background = 0"
      ]
    },
    {
      "cell_type": "code",
      "execution_count": null,
      "metadata": {
        "id": "2HjzlZSUirgT"
      },
      "outputs": [],
      "source": [
        "# Conv image PIL -> numpy\n",
        "def conv_np(img_pil):\n",
        "    return np.array(img_pil.convert('RGB'))[:, :, ::-1].copy()\n",
        "\n",
        "# Rotation image PIL\n",
        "def rot_angle(img_pil, angle, background):\n",
        "    return img_pil.rotate(angle, fillcolor=(background, background, background), expand=True)\n",
        "\n",
        "# Template matching methods\n",
        "def match_template(image, template):\n",
        "    # template matching\n",
        "    res = cv2.matchTemplate(image, template, cv2.TM_CCOEFF_NORMED)\n",
        "    min_val, max_val, min_loc, max_loc = cv2.minMaxLoc(res)\n",
        "\n",
        "    #  coordinates of the detected region\n",
        "    x1, y1 = max_loc\n",
        "    return x1, y1, max_val"
      ]
    },
    {
      "cell_type": "code",
      "execution_count": null,
      "metadata": {
        "id": "S8-4RewoirkR",
        "colab": {
          "base_uri": "https://localhost:8080/"
        },
        "outputId": "19493978-5d17-432e-cb25-aa1518d6a20b"
      },
      "outputs": [
        {
          "output_type": "stream",
          "name": "stderr",
          "text": [
            "/usr/local/lib/python3.10/dist-packages/PIL/Image.py:3406: DecompressionBombWarning: Image size (106587012 pixels) exceeds limit of 89478485 pixels, could be decompression bomb DOS attack.\n",
            "  warnings.warn(\n"
          ]
        }
      ],
      "source": [
        "# Loading image big\n",
        "big_pil = Image.open('big.tif')\n",
        "\n",
        "if big_pil is None:\n",
        "    raise FileNotFoundError(\"images big.tif not found\")"
      ]
    },
    {
      "cell_type": "code",
      "execution_count": null,
      "metadata": {
        "colab": {
          "base_uri": "https://localhost:8080/"
        },
        "id": "RSDd8RHgoQyE",
        "outputId": "8a58c48f-e6b0-4721-e99f-ac7d0fd96d35"
      },
      "outputs": [
        {
          "output_type": "execute_result",
          "data": {
            "text/plain": [
              "(12698, 8394)"
            ]
          },
          "metadata": {},
          "execution_count": 40
        }
      ],
      "source": [
        "# Conv big_pil -> numpy\n",
        "big_np = conv_np(big_pil)\n",
        "\n",
        "# Size small\n",
        "big_height, big_width = big_np.shape[:2]\n",
        "\n",
        "big_height, big_width"
      ]
    },
    {
      "cell_type": "code",
      "execution_count": null,
      "metadata": {
        "id": "Ef2i7HsIlbUM"
      },
      "outputs": [],
      "source": [
        "# Loading image small\n",
        "small_pil = Image.open('small.png')\n",
        "\n",
        "if small_pil is None:\n",
        "    raise FileNotFoundError(\"images small.png not found\")"
      ]
    },
    {
      "cell_type": "code",
      "execution_count": null,
      "metadata": {
        "id": "CHQAWsZ8lbgm"
      },
      "outputs": [],
      "source": [
        "# Conv small_pil -> numpy\n",
        "small_np = conv_np(small_pil)\n",
        "\n",
        "# Size small\n",
        "small_height, small_width = small_np.shape[:2]"
      ]
    },
    {
      "cell_type": "code",
      "execution_count": null,
      "metadata": {
        "id": "880PXm1_leUW"
      },
      "outputs": [],
      "source": [
        "#  Process\n",
        "\n",
        "for angle in angle_big:\n",
        "    # Rotation angle big\n",
        "    big_angle = rot_angle(big_pil, angle, background)\n",
        "    # Conv -> numpy big\n",
        "    big_angle_np = conv_np(big_angle)\n",
        "    # Converting images to grayscale\n",
        "    big_gray = cv2.cvtColor(big_angle_np, cv2.COLOR_BGR2GRAY)\n",
        "\n",
        "    for k in k_small:\n",
        "        # Resizing images small\n",
        "        width = int(small_width * k)\n",
        "        height = int(small_height * k)\n",
        "        small_np_k = cv2.resize(small_np, (width, height))\n",
        "        # Converting images to grayscale\n",
        "        small_gray = cv2.cvtColor(small_np_k , cv2.COLOR_BGR2GRAY)\n",
        "\n",
        "        for x in x_big:\n",
        "            for y in y_big:\n",
        "\n",
        "                # Apply template matching\n",
        "                result = match_template(big_gray[y:y+dy_big, x:x+dx_big],\n",
        "                                        small_gray)\n",
        "\n",
        "                results[result[2]] = {'x1': result[0] + x,\n",
        "                                      'y1': result[1] + y,\n",
        "                                      'x2': result[0] + x + width,\n",
        "                                      'y2': result[1] + y + height,\n",
        "                                      'angle': angle,\n",
        "                                      }"
      ]
    },
    {
      "cell_type": "code",
      "execution_count": null,
      "metadata": {
        "colab": {
          "base_uri": "https://localhost:8080/"
        },
        "id": "K9pi4-lmRf5V",
        "outputId": "25b312a6-982c-45c0-d5ec-452b1a6ec995"
      },
      "outputs": [
        {
          "output_type": "execute_result",
          "data": {
            "text/plain": [
              "(3466, 5729, 4276, 7169, 20, 0.30329543352127075)"
            ]
          },
          "metadata": {},
          "execution_count": 77
        }
      ],
      "source": [
        "# Get the coordinates of the detected region\n",
        "result = results[max(results.keys())]\n",
        "x1, y1, x2, y2, angle =  [*result.values()]\n",
        "x1, y1, x2, y2, angle, max(results.keys())"
      ]
    },
    {
      "cell_type": "code",
      "execution_count": null,
      "metadata": {
        "colab": {
          "base_uri": "https://localhost:8080/"
        },
        "id": "fSi-bpFwirm5",
        "outputId": "6452d6ea-1fb4-4d93-c65e-7da3a703a55b"
      },
      "outputs": [
        {
          "output_type": "execute_result",
          "data": {
            "text/plain": [
              "True"
            ]
          },
          "metadata": {},
          "execution_count": 79
        }
      ],
      "source": [
        "# Draw a rectangle around the detected region\n",
        "\n",
        "# Rotation angle big\n",
        "big_angle = rot_angle(big_pil, angle, background)\n",
        "\n",
        "# Conv -> numpy big\n",
        "big_angle_np = conv_np(big_angle)\n",
        "\n",
        "# Draw a rectangle around the detected region\n",
        "cv2.rectangle(big_angle_np, (x1, y1), (x2, y2), (0, 0, 0), 10)\n",
        "\n",
        "# Save the results\n",
        "cv2.imwrite('big_template.jpg', big_angle_np)"
      ]
    }
  ],
  "metadata": {
    "colab": {
      "provenance": [],
      "gpuType": "T4",
      "authorship_tag": "ABX9TyPuXpBnlJ46veBHS4SQg579",
      "include_colab_link": true
    },
    "kernelspec": {
      "display_name": "Python 3",
      "name": "python3"
    },
    "language_info": {
      "name": "python"
    },
    "accelerator": "GPU"
  },
  "nbformat": 4,
  "nbformat_minor": 0
}